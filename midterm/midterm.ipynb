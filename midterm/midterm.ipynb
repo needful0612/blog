{
 "cells": [
  {
   "cell_type": "markdown",
   "id": "50c42b77-7a49-4e9e-923c-09cb0f72b1c2",
   "metadata": {},
   "source": [
    "# problems overview"
   ]
  },
  {
   "cell_type": "code",
   "execution_count": 47,
   "id": "24957532-e438-45fa-953a-ce19337a5f83",
   "metadata": {},
   "outputs": [],
   "source": [
    "# matchup ratio"
   ]
  },
  {
   "cell_type": "markdown",
   "id": "8b70db7a-2795-47f7-92c3-1ab593523a4e",
   "metadata": {},
   "source": [
    "# 1.EDA"
   ]
  },
  {
   "cell_type": "markdown",
   "id": "fb01fb96-2e12-48bc-8dd6-1758fe4890d4",
   "metadata": {},
   "source": [
    "### general overview"
   ]
  },
  {
   "cell_type": "code",
   "execution_count": 105,
   "id": "360728f7-975e-4d6f-95c4-eccfdf62d46e",
   "metadata": {},
   "outputs": [],
   "source": [
    "import os\n",
    "import pandas as pd\n",
    "import numpy as np\n",
    "import matplotlib.pyplot as plt\n",
    "import seaborn as sns\n",
    "import plotly.express as px\n",
    "import plotly.graph_objects as go\n",
    "from plotly.subplots import make_subplots\n",
    "import scipy.stats as stats\n",
    "from statsmodels.graphics.gofplots import qqplot\n",
    "from sklearn.preprocessing import MinMaxScaler"
   ]
  },
  {
   "cell_type": "code",
   "execution_count": 106,
   "id": "075fff79-ea4c-4fa1-9f11-facfa27494f5",
   "metadata": {},
   "outputs": [
    {
     "name": "stdout",
     "output_type": "stream",
     "text": [
      "['.DS_Store', 'Online_Dating_Behavior_Dataset.csv']\n"
     ]
    }
   ],
   "source": [
    "data = os.listdir('data')\n",
    "print(data)"
   ]
  },
  {
   "cell_type": "code",
   "execution_count": 107,
   "id": "96988482-42ed-44bb-b68b-ac107de797c3",
   "metadata": {
    "scrolled": true
   },
   "outputs": [
    {
     "data": {
      "text/html": [
       "<div>\n",
       "<style scoped>\n",
       "    .dataframe tbody tr th:only-of-type {\n",
       "        vertical-align: middle;\n",
       "    }\n",
       "\n",
       "    .dataframe tbody tr th {\n",
       "        vertical-align: top;\n",
       "    }\n",
       "\n",
       "    .dataframe thead th {\n",
       "        text-align: right;\n",
       "    }\n",
       "</style>\n",
       "<table border=\"1\" class=\"dataframe\">\n",
       "  <thead>\n",
       "    <tr style=\"text-align: right;\">\n",
       "      <th></th>\n",
       "      <th>Gender</th>\n",
       "      <th>PurchasedVIP</th>\n",
       "      <th>Income</th>\n",
       "      <th>Children</th>\n",
       "      <th>Age</th>\n",
       "      <th>Attractiveness</th>\n",
       "      <th>Matches</th>\n",
       "    </tr>\n",
       "  </thead>\n",
       "  <tbody>\n",
       "    <tr>\n",
       "      <th>0</th>\n",
       "      <td>0</td>\n",
       "      <td>1</td>\n",
       "      <td>51777</td>\n",
       "      <td>3</td>\n",
       "      <td>47</td>\n",
       "      <td>5</td>\n",
       "      <td>70</td>\n",
       "    </tr>\n",
       "    <tr>\n",
       "      <th>1</th>\n",
       "      <td>1</td>\n",
       "      <td>0</td>\n",
       "      <td>36646</td>\n",
       "      <td>0</td>\n",
       "      <td>42</td>\n",
       "      <td>7</td>\n",
       "      <td>130</td>\n",
       "    </tr>\n",
       "    <tr>\n",
       "      <th>2</th>\n",
       "      <td>0</td>\n",
       "      <td>0</td>\n",
       "      <td>53801</td>\n",
       "      <td>1</td>\n",
       "      <td>25</td>\n",
       "      <td>5</td>\n",
       "      <td>0</td>\n",
       "    </tr>\n",
       "    <tr>\n",
       "      <th>3</th>\n",
       "      <td>0</td>\n",
       "      <td>0</td>\n",
       "      <td>56105</td>\n",
       "      <td>0</td>\n",
       "      <td>35</td>\n",
       "      <td>8</td>\n",
       "      <td>0</td>\n",
       "    </tr>\n",
       "    <tr>\n",
       "      <th>4</th>\n",
       "      <td>0</td>\n",
       "      <td>0</td>\n",
       "      <td>55597</td>\n",
       "      <td>1</td>\n",
       "      <td>36</td>\n",
       "      <td>6</td>\n",
       "      <td>0</td>\n",
       "    </tr>\n",
       "  </tbody>\n",
       "</table>\n",
       "</div>"
      ],
      "text/plain": [
       "   Gender  PurchasedVIP  Income  Children  Age  Attractiveness  Matches\n",
       "0       0             1   51777         3   47               5       70\n",
       "1       1             0   36646         0   42               7      130\n",
       "2       0             0   53801         1   25               5        0\n",
       "3       0             0   56105         0   35               8        0\n",
       "4       0             0   55597         1   36               6        0"
      ]
     },
     "execution_count": 107,
     "metadata": {},
     "output_type": "execute_result"
    }
   ],
   "source": [
    "df = pd.read_csv('data/Online_Dating_Behavior_Dataset.csv')\n",
    "\n",
    "df.head()"
   ]
  },
  {
   "cell_type": "code",
   "execution_count": 108,
   "id": "1bab66ff-9c94-4259-86e1-f87af8fca844",
   "metadata": {},
   "outputs": [
    {
     "name": "stdout",
     "output_type": "stream",
     "text": [
      "<class 'pandas.core.frame.DataFrame'>\n",
      "RangeIndex: 1000 entries, 0 to 999\n",
      "Data columns (total 7 columns):\n",
      " #   Column          Non-Null Count  Dtype\n",
      "---  ------          --------------  -----\n",
      " 0   Gender          1000 non-null   int64\n",
      " 1   PurchasedVIP    1000 non-null   int64\n",
      " 2   Income          1000 non-null   int64\n",
      " 3   Children        1000 non-null   int64\n",
      " 4   Age             1000 non-null   int64\n",
      " 5   Attractiveness  1000 non-null   int64\n",
      " 6   Matches         1000 non-null   int64\n",
      "dtypes: int64(7)\n",
      "memory usage: 54.8 KB\n"
     ]
    }
   ],
   "source": [
    "df.info()"
   ]
  },
  {
   "cell_type": "code",
   "execution_count": 109,
   "id": "22c9064f-8ef6-471c-99eb-9a3c85e8ba86",
   "metadata": {},
   "outputs": [
    {
     "data": {
      "text/plain": [
       "Gender            0\n",
       "PurchasedVIP      0\n",
       "Income            0\n",
       "Children          0\n",
       "Age               0\n",
       "Attractiveness    0\n",
       "Matches           0\n",
       "dtype: int64"
      ]
     },
     "execution_count": 109,
     "metadata": {},
     "output_type": "execute_result"
    }
   ],
   "source": [
    "df.isnull().sum()"
   ]
  },
  {
   "cell_type": "code",
   "execution_count": 110,
   "id": "308b7256-aa00-44be-8bb9-5e63f8f11569",
   "metadata": {},
   "outputs": [
    {
     "data": {
      "text/html": [
       "<div>\n",
       "<style scoped>\n",
       "    .dataframe tbody tr th:only-of-type {\n",
       "        vertical-align: middle;\n",
       "    }\n",
       "\n",
       "    .dataframe tbody tr th {\n",
       "        vertical-align: top;\n",
       "    }\n",
       "\n",
       "    .dataframe thead th {\n",
       "        text-align: right;\n",
       "    }\n",
       "</style>\n",
       "<table border=\"1\" class=\"dataframe\">\n",
       "  <thead>\n",
       "    <tr style=\"text-align: right;\">\n",
       "      <th></th>\n",
       "      <th>Gender</th>\n",
       "      <th>PurchasedVIP</th>\n",
       "      <th>Income</th>\n",
       "      <th>Children</th>\n",
       "      <th>Age</th>\n",
       "      <th>Attractiveness</th>\n",
       "      <th>Matches</th>\n",
       "    </tr>\n",
       "  </thead>\n",
       "  <tbody>\n",
       "    <tr>\n",
       "      <th>count</th>\n",
       "      <td>1000.00000</td>\n",
       "      <td>1000.000000</td>\n",
       "      <td>1000.000000</td>\n",
       "      <td>1000.000000</td>\n",
       "      <td>1000.000000</td>\n",
       "      <td>1000.000000</td>\n",
       "      <td>1000.00000</td>\n",
       "    </tr>\n",
       "    <tr>\n",
       "      <th>mean</th>\n",
       "      <td>0.51000</td>\n",
       "      <td>0.474000</td>\n",
       "      <td>50988.447000</td>\n",
       "      <td>0.978000</td>\n",
       "      <td>34.616000</td>\n",
       "      <td>5.624000</td>\n",
       "      <td>76.05000</td>\n",
       "    </tr>\n",
       "    <tr>\n",
       "      <th>std</th>\n",
       "      <td>0.50015</td>\n",
       "      <td>0.499573</td>\n",
       "      <td>9889.336141</td>\n",
       "      <td>0.997251</td>\n",
       "      <td>9.147799</td>\n",
       "      <td>2.824288</td>\n",
       "      <td>52.71315</td>\n",
       "    </tr>\n",
       "    <tr>\n",
       "      <th>min</th>\n",
       "      <td>0.00000</td>\n",
       "      <td>0.000000</td>\n",
       "      <td>20786.000000</td>\n",
       "      <td>0.000000</td>\n",
       "      <td>18.000000</td>\n",
       "      <td>1.000000</td>\n",
       "      <td>0.00000</td>\n",
       "    </tr>\n",
       "    <tr>\n",
       "      <th>25%</th>\n",
       "      <td>0.00000</td>\n",
       "      <td>0.000000</td>\n",
       "      <td>44358.500000</td>\n",
       "      <td>0.000000</td>\n",
       "      <td>27.000000</td>\n",
       "      <td>3.000000</td>\n",
       "      <td>0.00000</td>\n",
       "    </tr>\n",
       "    <tr>\n",
       "      <th>50%</th>\n",
       "      <td>1.00000</td>\n",
       "      <td>0.000000</td>\n",
       "      <td>50841.500000</td>\n",
       "      <td>1.000000</td>\n",
       "      <td>35.000000</td>\n",
       "      <td>6.000000</td>\n",
       "      <td>70.00000</td>\n",
       "    </tr>\n",
       "    <tr>\n",
       "      <th>75%</th>\n",
       "      <td>1.00000</td>\n",
       "      <td>1.000000</td>\n",
       "      <td>57396.000000</td>\n",
       "      <td>2.000000</td>\n",
       "      <td>43.000000</td>\n",
       "      <td>8.000000</td>\n",
       "      <td>120.00000</td>\n",
       "    </tr>\n",
       "    <tr>\n",
       "      <th>max</th>\n",
       "      <td>1.00000</td>\n",
       "      <td>1.000000</td>\n",
       "      <td>81931.000000</td>\n",
       "      <td>3.000000</td>\n",
       "      <td>49.000000</td>\n",
       "      <td>10.000000</td>\n",
       "      <td>160.00000</td>\n",
       "    </tr>\n",
       "  </tbody>\n",
       "</table>\n",
       "</div>"
      ],
      "text/plain": [
       "           Gender  PurchasedVIP        Income     Children          Age  \\\n",
       "count  1000.00000   1000.000000   1000.000000  1000.000000  1000.000000   \n",
       "mean      0.51000      0.474000  50988.447000     0.978000    34.616000   \n",
       "std       0.50015      0.499573   9889.336141     0.997251     9.147799   \n",
       "min       0.00000      0.000000  20786.000000     0.000000    18.000000   \n",
       "25%       0.00000      0.000000  44358.500000     0.000000    27.000000   \n",
       "50%       1.00000      0.000000  50841.500000     1.000000    35.000000   \n",
       "75%       1.00000      1.000000  57396.000000     2.000000    43.000000   \n",
       "max       1.00000      1.000000  81931.000000     3.000000    49.000000   \n",
       "\n",
       "       Attractiveness     Matches  \n",
       "count     1000.000000  1000.00000  \n",
       "mean         5.624000    76.05000  \n",
       "std          2.824288    52.71315  \n",
       "min          1.000000     0.00000  \n",
       "25%          3.000000     0.00000  \n",
       "50%          6.000000    70.00000  \n",
       "75%          8.000000   120.00000  \n",
       "max         10.000000   160.00000  "
      ]
     },
     "execution_count": 110,
     "metadata": {},
     "output_type": "execute_result"
    }
   ],
   "source": [
    "df.describe()"
   ]
  },
  {
   "cell_type": "code",
   "execution_count": 111,
   "id": "ed73b041-dd5b-459e-92f5-855c2656372a",
   "metadata": {},
   "outputs": [
    {
     "data": {
      "text/plain": [
       "Gender              2\n",
       "PurchasedVIP        2\n",
       "Income            989\n",
       "Children            4\n",
       "Age                32\n",
       "Attractiveness     10\n",
       "Matches            11\n",
       "dtype: int64"
      ]
     },
     "execution_count": 111,
     "metadata": {},
     "output_type": "execute_result"
    }
   ],
   "source": [
    "df.nunique()"
   ]
  },
  {
   "cell_type": "markdown",
   "id": "84c22aa7-3e51-4a7a-9db0-a3f108ede17b",
   "metadata": {},
   "source": [
    "### data insight"
   ]
  },
  {
   "cell_type": "code",
   "execution_count": 112,
   "id": "ae07dd08-d332-4615-96f0-6f59c9e0fd15",
   "metadata": {},
   "outputs": [
    {
     "data": {
      "image/png": "[encoded data removed]",
      "text/plain": [
       "<Figure size 1500x1000 with 9 Axes>"
      ]
     },
     "metadata": {},
     "output_type": "display_data"
    }
   ],
   "source": [
    "# check distribution\n",
    "df.hist(bins=20, figsize=(15,10))\n",
    "plt.tight_layout()\n",
    "plt.show()"
   ]
  },
  {
   "cell_type": "code",
   "execution_count": 113,
   "id": "6494216f-6481-4b9a-a774-4d570c4f2336",
   "metadata": {},
   "outputs": [
    {
     "data": {
      "image/png": "[encoded data removed]",
      "text/plain": [
       "<Figure size 640x480 with 2 Axes>"
      ]
     },
     "metadata": {},
     "output_type": "display_data"
    }
   ],
   "source": [
    "#only gender and matches has high correlation,means no overlap feature\n",
    "corr_matrix = df.corr()\n",
    "sns.heatmap(corr_matrix, annot=True, cmap='coolwarm')\n",
    "plt.title('Correlation Matrix')\n",
    "plt.show()"
   ]
  },
  {
   "cell_type": "code",
   "execution_count": 114,
   "id": "16a17f70-c341-49be-86a3-4ff5ac960441",
   "metadata": {},
   "outputs": [
    {
     "name": "stdout",
     "output_type": "stream",
     "text": [
      "   Matches  Matches_Percentage\n",
      "0       70             44.3125\n",
      "1      130             81.4375\n",
      "2        0              1.0000\n",
      "3        0              1.0000\n",
      "4        0              1.0000\n"
     ]
    }
   ],
   "source": [
    "min_matches = df['Matches'].min()\n",
    "max_matches = df['Matches'].max()\n",
    "\n",
    "df['Matches_Percentage'] = ((df['Matches'] - min_matches) / (max_matches - min_matches)) * 99 + 1\n",
    "\n",
    "print(df[['Matches', 'Matches_Percentage']].head())"
   ]
  },
  {
   "cell_type": "code",
   "execution_count": 115,
   "id": "0f9da956-bf4e-4e7b-9135-4cef94bbf093",
   "metadata": {},
   "outputs": [
    {
     "name": "stdout",
     "output_type": "stream",
     "text": [
      "   Gender  PurchasedVIP  Income  Children  Age  Attractiveness  \\\n",
      "0       0             1   51777         3   47               5   \n",
      "1       1             0   36646         0   42               7   \n",
      "2       0             0   53801         1   25               5   \n",
      "3       0             0   56105         0   35               8   \n",
      "4       0             0   55597         1   36               6   \n",
      "\n",
      "   Matches_Percentage  \n",
      "0             44.3125  \n",
      "1             81.4375  \n",
      "2              1.0000  \n",
      "3              1.0000  \n",
      "4              1.0000  \n"
     ]
    }
   ],
   "source": [
    "df = df.drop('Matches', axis=1)\n",
    "\n",
    "print(df.head())"
   ]
  },
  {
   "cell_type": "code",
   "execution_count": 116,
   "id": "b97d13ad-4dbd-4507-9ffc-eeec028d8447",
   "metadata": {},
   "outputs": [
    {
     "data": {
      "text/plain": [
       "Gender                0\n",
       "PurchasedVIP          0\n",
       "Income                0\n",
       "Children              0\n",
       "Age                   0\n",
       "Attractiveness        0\n",
       "Matches_Percentage    0\n",
       "dtype: int64"
      ]
     },
     "execution_count": 116,
     "metadata": {},
     "output_type": "execute_result"
    }
   ],
   "source": [
    "df.isnull().sum()"
   ]
  },
  {
   "cell_type": "code",
   "execution_count": 117,
   "id": "b118693d-4ddc-45da-97eb-3bdd44f07d0e",
   "metadata": {},
   "outputs": [
    {
     "data": {
      "text/html": [
       "<div>\n",
       "<style scoped>\n",
       "    .dataframe tbody tr th:only-of-type {\n",
       "        vertical-align: middle;\n",
       "    }\n",
       "\n",
       "    .dataframe tbody tr th {\n",
       "        vertical-align: top;\n",
       "    }\n",
       "\n",
       "    .dataframe thead th {\n",
       "        text-align: right;\n",
       "    }\n",
       "</style>\n",
       "<table border=\"1\" class=\"dataframe\">\n",
       "  <thead>\n",
       "    <tr style=\"text-align: right;\">\n",
       "      <th></th>\n",
       "      <th>Gender</th>\n",
       "      <th>PurchasedVIP</th>\n",
       "      <th>Income</th>\n",
       "      <th>Children</th>\n",
       "      <th>Age</th>\n",
       "      <th>Attractiveness</th>\n",
       "      <th>Matches_Percentage</th>\n",
       "    </tr>\n",
       "  </thead>\n",
       "  <tbody>\n",
       "    <tr>\n",
       "      <th>0</th>\n",
       "      <td>0</td>\n",
       "      <td>1</td>\n",
       "      <td>0.506844</td>\n",
       "      <td>3</td>\n",
       "      <td>0.935484</td>\n",
       "      <td>0.444444</td>\n",
       "      <td>44.3125</td>\n",
       "    </tr>\n",
       "    <tr>\n",
       "      <th>1</th>\n",
       "      <td>1</td>\n",
       "      <td>0</td>\n",
       "      <td>0.259383</td>\n",
       "      <td>0</td>\n",
       "      <td>0.774194</td>\n",
       "      <td>0.666667</td>\n",
       "      <td>81.4375</td>\n",
       "    </tr>\n",
       "    <tr>\n",
       "      <th>2</th>\n",
       "      <td>0</td>\n",
       "      <td>0</td>\n",
       "      <td>0.539946</td>\n",
       "      <td>1</td>\n",
       "      <td>0.225806</td>\n",
       "      <td>0.444444</td>\n",
       "      <td>1.0000</td>\n",
       "    </tr>\n",
       "    <tr>\n",
       "      <th>3</th>\n",
       "      <td>0</td>\n",
       "      <td>0</td>\n",
       "      <td>0.577627</td>\n",
       "      <td>0</td>\n",
       "      <td>0.548387</td>\n",
       "      <td>0.777778</td>\n",
       "      <td>1.0000</td>\n",
       "    </tr>\n",
       "    <tr>\n",
       "      <th>4</th>\n",
       "      <td>0</td>\n",
       "      <td>0</td>\n",
       "      <td>0.569319</td>\n",
       "      <td>1</td>\n",
       "      <td>0.580645</td>\n",
       "      <td>0.555556</td>\n",
       "      <td>1.0000</td>\n",
       "    </tr>\n",
       "  </tbody>\n",
       "</table>\n",
       "</div>"
      ],
      "text/plain": [
       "   Gender  PurchasedVIP    Income  Children       Age  Attractiveness  \\\n",
       "0       0             1  0.506844         3  0.935484        0.444444   \n",
       "1       1             0  0.259383         0  0.774194        0.666667   \n",
       "2       0             0  0.539946         1  0.225806        0.444444   \n",
       "3       0             0  0.577627         0  0.548387        0.777778   \n",
       "4       0             0  0.569319         1  0.580645        0.555556   \n",
       "\n",
       "   Matches_Percentage  \n",
       "0             44.3125  \n",
       "1             81.4375  \n",
       "2              1.0000  \n",
       "3              1.0000  \n",
       "4              1.0000  "
      ]
     },
     "execution_count": 117,
     "metadata": {},
     "output_type": "execute_result"
    }
   ],
   "source": [
    "from sklearn.preprocessing import MinMaxScaler\n",
    "df_backup= df\n",
    "scaler = MinMaxScaler()\n",
    "df[['Income', 'Age', 'Attractiveness']] = scaler.fit_transform(df[['Income', 'Age', 'Attractiveness']])\n",
    "df.head()"
   ]
  },
  {
   "cell_type": "markdown",
   "id": "76bd0415-2b4f-4c31-87f2-2c02b01f8516",
   "metadata": {},
   "source": [
    "### model training"
   ]
  },
  {
   "cell_type": "code",
   "execution_count": 118,
   "id": "8dd1b360-6ca2-4453-8b4d-fae630d350da",
   "metadata": {},
   "outputs": [],
   "source": [
    "from sklearn.model_selection import train_test_split\n",
    "\n",
    "y = df['Matches_Percentage'] \n",
    "X = df.drop('Matches_Percentage', axis=1)  "
   ]
  },
  {
   "cell_type": "code",
   "execution_count": 119,
   "id": "e09636f1-4309-4c76-9a57-afe219e23085",
   "metadata": {},
   "outputs": [
    {
     "name": "stdout",
     "output_type": "stream",
     "text": [
      "Training Set: 600 samples\n",
      "Validation Set: 200 samples\n",
      "Test Set: 200 samples\n"
     ]
    }
   ],
   "source": [
    "X_train, X_temp, y_train, y_temp = train_test_split(X, y, test_size=0.4, random_state=42)\n",
    "\n",
    "X_val, X_test, y_val, y_test = train_test_split(X_temp, y_temp, test_size=0.5, random_state=42)\n",
    "\n",
    "print(f\"Training Set: {X_train.shape[0]} samples\")\n",
    "print(f\"Validation Set: {X_val.shape[0]} samples\")\n",
    "print(f\"Test Set: {X_test.shape[0]} samples\")"
   ]
  },
  {
   "cell_type": "code",
   "execution_count": 120,
   "id": "79115310-4b10-4741-b1e6-874f39d24fe3",
   "metadata": {},
   "outputs": [],
   "source": [
    "from sklearn.linear_model import LinearRegression\n",
    "from sklearn.ensemble import RandomForestRegressor, GradientBoostingRegressor\n",
    "from sklearn.svm import SVR\n",
    "from sklearn.neighbors import KNeighborsRegressor\n",
    "from sklearn.metrics import mean_squared_error, r2_score"
   ]
  },
  {
   "cell_type": "code",
   "execution_count": 121,
   "id": "79d89f6a-87d0-4f19-a68b-db8f31b267dd",
   "metadata": {},
   "outputs": [],
   "source": [
    "models = {\n",
    "    \"Linear Regression\": LinearRegression(),\n",
    "    \"Random Forest Regression\": RandomForestRegressor(random_state=44),\n",
    "    \"Gradient Boosting Regression\": GradientBoostingRegressor(random_state=44),\n",
    "    \"Support Vector Regression (SVR)\": SVR(),\n",
    "    \"K-Nearest Neighbors Regression\": KNeighborsRegressor()\n",
    "}"
   ]
  },
  {
   "cell_type": "code",
   "execution_count": 122,
   "id": "dbde62bf-611c-4fcf-9bab-0d4949ba5bd6",
   "metadata": {},
   "outputs": [
    {
     "name": "stdout",
     "output_type": "stream",
     "text": [
      "Linear Regression:\n",
      "  Mean Squared Error: 180.2676\n",
      "  R-squared: 0.8214\n",
      "--------------------------------------------------\n",
      "Random Forest Regression:\n",
      "  Mean Squared Error: 0.0000\n",
      "  R-squared: 1.0000\n",
      "--------------------------------------------------\n",
      "Gradient Boosting Regression:\n",
      "  Mean Squared Error: 0.0000\n",
      "  R-squared: 1.0000\n",
      "--------------------------------------------------\n",
      "Support Vector Regression (SVR):\n",
      "  Mean Squared Error: 174.5869\n",
      "  R-squared: 0.8270\n",
      "--------------------------------------------------\n",
      "K-Nearest Neighbors Regression:\n",
      "  Mean Squared Error: 15.9649\n",
      "  R-squared: 0.9842\n",
      "--------------------------------------------------\n",
      "\n",
      "Comparison of all models:\n",
      "Linear Regression -> MSE: 180.2676, R2: 0.8214\n",
      "Random Forest Regression -> MSE: 0.0000, R2: 1.0000\n",
      "Gradient Boosting Regression -> MSE: 0.0000, R2: 1.0000\n",
      "Support Vector Regression (SVR) -> MSE: 174.5869, R2: 0.8270\n",
      "K-Nearest Neighbors Regression -> MSE: 15.9649, R2: 0.9842\n"
     ]
    }
   ],
   "source": [
    "results = {}\n",
    "for model_name, model in models.items():\n",
    "    model.fit(X_train, y_train)\n",
    "\n",
    "    y_pred = model.predict(X_val)\n",
    "\n",
    "    mse = mean_squared_error(y_val, y_pred)  \n",
    "    r2 = r2_score(y_val, y_pred)  \n",
    "\n",
    "    results[model_name] = {\"MSE\": mse, \"R2\": r2}\n",
    "\n",
    "    print(f\"{model_name}:\")\n",
    "    print(f\"  Mean Squared Error: {mse:.4f}\")\n",
    "    print(f\"  R-squared: {r2:.4f}\")\n",
    "    print(\"-\" * 50)\n",
    "\n",
    "print(\"\\nComparison of all models:\")\n",
    "for model_name, metrics in results.items():\n",
    "    print(f\"{model_name} -> MSE: {metrics['MSE']:.4f}, R2: {metrics['R2']:.4f}\")"
   ]
  },
  {
   "cell_type": "markdown",
   "id": "b86edb9d-ca6f-4228-85b7-240af90965d2",
   "metadata": {},
   "source": [
    "### model tuning"
   ]
  },
  {
   "cell_type": "code",
   "execution_count": 130,
   "id": "5e996652-aa6b-4cc2-a541-114978d14779",
   "metadata": {},
   "outputs": [
    {
     "name": "stdout",
     "output_type": "stream",
     "text": [
      "Training MSE: 0.481942806466292\n",
      "Training RMSE: 0.6942210069324408\n",
      "Training R²: 0.9995490258059595\n"
     ]
    }
   ],
   "source": [
    "#tuning linear regression(still overfitting)\n",
    "from sklearn.preprocessing import PolynomialFeatures\n",
    "from sklearn.linear_model import Ridge\n",
    "\n",
    "poly = PolynomialFeatures(degree=2)\n",
    "X_poly = poly.fit_transform(X_train)\n",
    "\n",
    "ridge_model = Ridge(alpha=1.0)\n",
    "ridge_model.fit(X_poly, y_train)\n",
    "y_train_pred = ridge_model.predict(X_poly)\n",
    "\n",
    "mse_train = mean_squared_error(y_train, y_train_pred)\n",
    "rmse_train = np.sqrt(mse_train)\n",
    "\n",
    "r2_train = r2_score(y_train, y_train_pred)\n",
    "\n",
    "print(f\"Training MSE: {mse_train}\")\n",
    "print(f\"Training RMSE: {rmse_train}\")\n",
    "print(f\"Training R²: {r2_train}\")"
   ]
  },
  {
   "cell_type": "code",
   "execution_count": 133,
   "id": "8a4153b1-9539-4019-a038-4b0a2100563d",
   "metadata": {},
   "outputs": [],
   "source": [
    "#rf tuning\n",
    "rf_model = RandomForestRegressor(n_estimators=50, max_depth=10, min_samples_split=5, min_samples_leaf=3, random_state=44)"
   ]
  },
  {
   "cell_type": "code",
   "execution_count": 134,
   "id": "cd4247fe-0fbf-4187-be79-fc185ceba84d",
   "metadata": {},
   "outputs": [
    {
     "data": {
      "text/plain": [
       "array([-0., -0., -0., -0., -0.])"
      ]
     },
     "execution_count": 134,
     "metadata": {},
     "output_type": "execute_result"
    }
   ],
   "source": [
    "from sklearn.model_selection import cross_val_score\n",
    "cross_val_score(rf_model, X_train, y_train, cv=5, scoring='neg_mean_squared_error')"
   ]
  },
  {
   "cell_type": "code",
   "execution_count": 136,
   "id": "795a020f-8750-44c9-bd32-2413f20eb67a",
   "metadata": {},
   "outputs": [],
   "source": [
    "gb_model = GradientBoostingRegressor(n_estimators=100, learning_rate=0.05, max_depth=3, random_state=44)"
   ]
  },
  {
   "cell_type": "code",
   "execution_count": 137,
   "id": "9622042d-d880-47da-9afc-47b364d10c80",
   "metadata": {},
   "outputs": [
    {
     "data": {
      "text/plain": [
       "array([-0.04793817, -0.05155531, -0.05099809, -0.0367477 , -0.04619382])"
      ]
     },
     "execution_count": 137,
     "metadata": {},
     "output_type": "execute_result"
    }
   ],
   "source": [
    "cross_val_score(gb_model, X_train, y_train, cv=5, scoring='neg_mean_squared_error')"
   ]
  },
  {
   "cell_type": "code",
   "execution_count": 143,
   "id": "b486cdd0-8f8f-4ea0-8b26-a16b0cbaec41",
   "metadata": {},
   "outputs": [
    {
     "name": "stdout",
     "output_type": "stream",
     "text": [
      "n_neighbors: 3, weights: distance, metric: manhattan\n",
      "  MSE: 7.0688, R²: 0.9932\n"
     ]
    }
   ],
   "source": [
    "## tuning knn\n",
    "# Hyperparameters to tune\n",
    "n_neighbors_range = [3, 5, 7, 9]  \n",
    "weights_options = ['uniform', 'distance'] \n",
    "metrics_options = ['minkowski', 'euclidean', 'manhattan']  \n",
    "\n",
    "X_train, X_test, y_train, y_test = train_test_split(X, y, test_size=0.2, random_state=42)\n",
    "\n",
    "results = []\n",
    "for n_neighbors in n_neighbors_range:\n",
    "    for weights in weights_options:\n",
    "        for metric in metrics_options:\n",
    " \n",
    "            knn_model = KNeighborsRegressor(n_neighbors=n_neighbors, weights=weights, metric=metric)\n",
    "            knn_model.fit(X_train, y_train)\n",
    "\n",
    "            y_pred = knn_model.predict(X_test)\n",
    "            mse = mean_squared_error(y_test, y_pred)\n",
    "            r2 = r2_score(y_test, y_pred)\n",
    "\n",
    "            results.append({\n",
    "                'n_neighbors': n_neighbors,\n",
    "                'weights': weights,\n",
    "                'metric': metric,\n",
    "                'MSE': mse,\n",
    "                'R²': r2\n",
    "            })\n",
    "\n",
    "# Find the best result (lowest MSE or highest R²)\n",
    "best_result = min(results, key=lambda x: x['MSE']) \n",
    "\n",
    "print(f\"n_neighbors: {best_result['n_neighbors']}, weights: {best_result['weights']}, metric: {best_result['metric']}\")\n",
    "print(f\"  MSE: {best_result['MSE']:.4f}, R²: {best_result['R²']:.4f}\")"
   ]
  },
  {
   "cell_type": "code",
   "execution_count": 144,
   "id": "30b7d843-a129-4f5e-b11d-c5e3cf071da9",
   "metadata": {},
   "outputs": [
    {
     "name": "stdout",
     "output_type": "stream",
     "text": [
      "Final Model Evaluation on Test Set:\n",
      "  MSE: 7.0688, R²: 0.9932\n"
     ]
    },
    {
     "data": {
      "text/plain": [
       "['best_knn_model.pkl']"
      ]
     },
     "execution_count": 144,
     "metadata": {},
     "output_type": "execute_result"
    }
   ],
   "source": [
    "import joblib\n",
    "\n",
    "best_result = min(results, key=lambda x: x['MSE']) \n",
    "\n",
    "best_n_neighbors = best_result['n_neighbors']\n",
    "best_weights = best_result['weights']\n",
    "best_metric = best_result['metric']\n",
    "\n",
    "best_knn_model = KNeighborsRegressor(\n",
    "    n_neighbors=best_n_neighbors,\n",
    "    weights=best_weights,\n",
    "    metric=best_metric\n",
    ")\n",
    "best_knn_model.fit(X_train, y_train)\n",
    "\n",
    "y_test_pred = best_knn_model.predict(X_test)\n",
    "mse_test = mean_squared_error(y_test, y_test_pred)\n",
    "r2_test = r2_score(y_test, y_test_pred)\n",
    "\n",
    "print(\"Final Model Evaluation on Test Set:\")\n",
    "print(f\"  MSE: {mse_test:.4f}, R²: {r2_test:.4f}\")\n",
    "\n",
    "joblib.dump(best_knn_model, 'best_knn_model.pkl')"
   ]
  },
  {
   "cell_type": "code",
   "execution_count": null,
   "id": "f5d7515c-7a6a-4bea-a13c-3498e886f789",
   "metadata": {},
   "outputs": [],
   "source": []
  }
 ],
 "metadata": {
  "kernelspec": {
   "display_name": "Python 3 (ipykernel)",
   "language": "python",
   "name": "python3"
  },
  "language_info": {
   "codemirror_mode": {
    "name": "ipython",
    "version": 3
   },
   "file_extension": ".py",
   "mimetype": "text/x-python",
   "name": "python",
   "nbconvert_exporter": "python",
   "pygments_lexer": "ipython3",
   "version": "3.9.6"
  }
 },
 "nbformat": 4,
 "nbformat_minor": 5
}
